{
 "cells": [
  {
   "cell_type": "markdown",
   "metadata": {
    "id": "mVvNF5yJC-N8"
   },
   "source": [
    "### Objective\n",
    "\n",
    "Streamist is currently focusing on the anime available in their portal and wants to identify the most important factors involved in rating an anime.  As a data scientist at Streamist, you are tasked with analyzing the  portal's anime data and identifying the important factors by building a predictive model to predict the rating of an anime.\n",
    "\n",
    "\n",
    "\n",
    "### Variables\n",
    "\n",
    "1. title: title of the anime\n",
    "2. mediaType: format of publication\n",
    "3. eps: number of episodes (movies are considered 1 episode)\n",
    "4. duration: duration of an episode in minutes\n",
    "5. startYr: the year that airing started\n",
    "6. finishYr: the year that airing finished\n",
    "7. description: the synopsis of the plot\n",
    "8. contentWarn: content warning\n",
    "9. watched: number of users that completed it\n",
    "10. watching: number of users that are watching it\n",
    "11. rating: average user rating\n",
    "12. votes: number of votes that contribute to the rating\n",
    "13. studio_primary: studios responsible for creation\n",
    "14. studios_colab: whether there was a collaboration between studios for anime production\n",
    "15. genre: genre to which the anime belongs"
   ]
  },
  {
   "cell_type": "markdown",
   "metadata": {
    "id": "v_-uuGqH-qTt"
   },
   "source": [
    "## Importing necessary libraries"
   ]
  },
  {
   "cell_type": "code",
   "execution_count": 3,
   "metadata": {
    "id": "I1OMxQ78FIOG",
    "outputId": "b399634e-83a1-426c-f528-5a9333dd9989"
   },
   "outputs": [],
   "source": [
    "# Libraries for reading and manipulating data\n",
    "import numpy as np\n",
    "import pandas as pd\n",
    "\n",
    "# Libraries for data visualization\n",
    "import matplotlib.pyplot as plt\n",
    "import seaborn as sns\n",
    "\n",
    "sns.set()\n",
    "\n",
    "# split the data into train and test\n",
    "from sklearn.model_selection import train_test_split\n",
    "\n",
    "# linear regression_model\n",
    "import statsmodels.api as sm\n",
    "\n",
    "# For checking model performance\n",
    "from sklearn.metrics import mean_absolute_error, mean_squared_error, r2_score"
   ]
  },
  {
   "cell_type": "code",
   "execution_count": 4,
   "metadata": {
    "colab": {
     "base_uri": "https://localhost:8080/"
    },
    "id": "_IhpfhVpKO5W",
    "outputId": "27c6c6ab-4df6-496e-a768-569ca994f87c"
   },
   "outputs": [],
   "source": [
    "# for importing file to Google colab notebook\n",
    "\n",
    "\n",
    "#from google.colab import files\n",
    "#try:\n",
    "#    data\n",
    "#except NameError:\n",
    "#    data = files.upload()"
   ]
  },
  {
   "cell_type": "markdown",
   "metadata": {
    "id": "xxhpZv9y-qTw"
   },
   "source": [
    "## Loading the dataset"
   ]
  },
  {
   "cell_type": "code",
   "execution_count": 5,
   "metadata": {
    "id": "s1w7UuCkFTtD",
    "outputId": "0252e71d-7db7-4c17-82f4-5009bebb3197"
   },
   "outputs": [],
   "source": [
    "anime = pd.read_csv(\"anime_ratings_data.csv\")"
   ]
  },
  {
   "cell_type": "markdown",
   "metadata": {
    "id": "aodMV5D3-qTy"
   },
   "source": [
    "## Data Overview"
   ]
  },
  {
   "cell_type": "markdown",
   "metadata": {
    "id": "qlzqMR1K-qTz"
   },
   "source": [
    "### Displaying the first few rows of the dataset"
   ]
  },
  {
   "cell_type": "code",
   "execution_count": 6,
   "metadata": {
    "colab": {
     "base_uri": "https://localhost:8080/",
     "height": 406
    },
    "id": "5oT7wt_c-qT0",
    "outputId": "0f6a8c66-937e-4abb-996e-468b64fcd1f3"
   },
   "outputs": [
    {
     "data": {
      "text/html": [
       "<div>\n",
       "<style scoped>\n",
       "    .dataframe tbody tr th:only-of-type {\n",
       "        vertical-align: middle;\n",
       "    }\n",
       "\n",
       "    .dataframe tbody tr th {\n",
       "        vertical-align: top;\n",
       "    }\n",
       "\n",
       "    .dataframe thead th {\n",
       "        text-align: right;\n",
       "    }\n",
       "</style>\n",
       "<table border=\"1\" class=\"dataframe\">\n",
       "  <thead>\n",
       "    <tr style=\"text-align: right;\">\n",
       "      <th></th>\n",
       "      <th>title</th>\n",
       "      <th>mediaType</th>\n",
       "      <th>eps</th>\n",
       "      <th>duration</th>\n",
       "      <th>startYr</th>\n",
       "      <th>finishYr</th>\n",
       "      <th>description</th>\n",
       "      <th>contentWarn</th>\n",
       "      <th>watched</th>\n",
       "      <th>watching</th>\n",
       "      <th>rating</th>\n",
       "      <th>votes</th>\n",
       "      <th>studio_primary</th>\n",
       "      <th>studios_colab</th>\n",
       "      <th>genre</th>\n",
       "    </tr>\n",
       "  </thead>\n",
       "  <tbody>\n",
       "    <tr>\n",
       "      <th>0</th>\n",
       "      <td>Dragon Ball Z Movie 15: Resurrection 'F'</td>\n",
       "      <td>Movie</td>\n",
       "      <td>1</td>\n",
       "      <td>67.0</td>\n",
       "      <td>2015</td>\n",
       "      <td>2015</td>\n",
       "      <td>Even the complete obliteration of his physical...</td>\n",
       "      <td>No</td>\n",
       "      <td>4649</td>\n",
       "      <td>86</td>\n",
       "      <td>3.979</td>\n",
       "      <td>3100.0</td>\n",
       "      <td>Toei Animation</td>\n",
       "      <td>No</td>\n",
       "      <td>Other</td>\n",
       "    </tr>\n",
       "    <tr>\n",
       "      <th>1</th>\n",
       "      <td>Kuripuri*Kuripura</td>\n",
       "      <td>Movie</td>\n",
       "      <td>1</td>\n",
       "      <td>5.0</td>\n",
       "      <td>2008</td>\n",
       "      <td>2008</td>\n",
       "      <td>NaN</td>\n",
       "      <td>No</td>\n",
       "      <td>10</td>\n",
       "      <td>0</td>\n",
       "      <td>2.120</td>\n",
       "      <td>10.0</td>\n",
       "      <td>Others</td>\n",
       "      <td>No</td>\n",
       "      <td>Other</td>\n",
       "    </tr>\n",
       "    <tr>\n",
       "      <th>2</th>\n",
       "      <td>GJ-bu@</td>\n",
       "      <td>TV Special</td>\n",
       "      <td>1</td>\n",
       "      <td>46.0</td>\n",
       "      <td>2014</td>\n",
       "      <td>2014</td>\n",
       "      <td>The story is set during the spring vacation im...</td>\n",
       "      <td>No</td>\n",
       "      <td>1630</td>\n",
       "      <td>16</td>\n",
       "      <td>3.758</td>\n",
       "      <td>1103.0</td>\n",
       "      <td>Others</td>\n",
       "      <td>No</td>\n",
       "      <td>Other</td>\n",
       "    </tr>\n",
       "    <tr>\n",
       "      <th>3</th>\n",
       "      <td>Nausicaa of the Valley of the Wind</td>\n",
       "      <td>Movie</td>\n",
       "      <td>1</td>\n",
       "      <td>67.0</td>\n",
       "      <td>1984</td>\n",
       "      <td>1984</td>\n",
       "      <td>One thousand years after the Giant Warriors ca...</td>\n",
       "      <td>No</td>\n",
       "      <td>4649</td>\n",
       "      <td>184</td>\n",
       "      <td>4.444</td>\n",
       "      <td>3100.0</td>\n",
       "      <td>Others</td>\n",
       "      <td>No</td>\n",
       "      <td>Drama</td>\n",
       "    </tr>\n",
       "    <tr>\n",
       "      <th>4</th>\n",
       "      <td>Miru Tights Special</td>\n",
       "      <td>DVD Special</td>\n",
       "      <td>1</td>\n",
       "      <td>4.0</td>\n",
       "      <td>2019</td>\n",
       "      <td>2019</td>\n",
       "      <td>Yua is asked to model an illustrator's designs...</td>\n",
       "      <td>No</td>\n",
       "      <td>346</td>\n",
       "      <td>8</td>\n",
       "      <td>2.494</td>\n",
       "      <td>234.0</td>\n",
       "      <td>Others</td>\n",
       "      <td>No</td>\n",
       "      <td>Other</td>\n",
       "    </tr>\n",
       "  </tbody>\n",
       "</table>\n",
       "</div>"
      ],
      "text/plain": [
       "                                      title    mediaType  eps  duration  \\\n",
       "0  Dragon Ball Z Movie 15: Resurrection 'F'        Movie    1      67.0   \n",
       "1                         Kuripuri*Kuripura        Movie    1       5.0   \n",
       "2                                    GJ-bu@   TV Special    1      46.0   \n",
       "3        Nausicaa of the Valley of the Wind        Movie    1      67.0   \n",
       "4                       Miru Tights Special  DVD Special    1       4.0   \n",
       "\n",
       "   startYr  finishYr                                        description  \\\n",
       "0     2015      2015  Even the complete obliteration of his physical...   \n",
       "1     2008      2008                                                NaN   \n",
       "2     2014      2014  The story is set during the spring vacation im...   \n",
       "3     1984      1984  One thousand years after the Giant Warriors ca...   \n",
       "4     2019      2019  Yua is asked to model an illustrator's designs...   \n",
       "\n",
       "  contentWarn  watched  watching  rating   votes  studio_primary  \\\n",
       "0          No     4649        86   3.979  3100.0  Toei Animation   \n",
       "1          No       10         0   2.120    10.0          Others   \n",
       "2          No     1630        16   3.758  1103.0          Others   \n",
       "3          No     4649       184   4.444  3100.0          Others   \n",
       "4          No      346         8   2.494   234.0          Others   \n",
       "\n",
       "  studios_colab  genre  \n",
       "0            No  Other  \n",
       "1            No  Other  \n",
       "2            No  Other  \n",
       "3            No  Drama  \n",
       "4            No  Other  "
      ]
     },
     "execution_count": 6,
     "metadata": {},
     "output_type": "execute_result"
    }
   ],
   "source": [
    "anime.head()"
   ]
  },
  {
   "cell_type": "markdown",
   "metadata": {
    "id": "b0WQYOcl-qT0"
   },
   "source": [
    "* The dataset contains information about different anime\n",
    "* Many anime seem to have a single episode only, which are movies\n",
    "* Description seems to be missing for some anime"
   ]
  },
  {
   "cell_type": "markdown",
   "metadata": {
    "id": "KQi5ygTC-qT1"
   },
   "source": [
    "### Checking the shape of the dataset"
   ]
  },
  {
   "cell_type": "code",
   "execution_count": 7,
   "metadata": {
    "colab": {
     "base_uri": "https://localhost:8080/"
    },
    "id": "-9I7p2d5-qT1",
    "outputId": "b7e60c93-b013-417d-a4d5-64077711b80d"
   },
   "outputs": [
    {
     "data": {
      "text/plain": [
       "(6523, 15)"
      ]
     },
     "execution_count": 7,
     "metadata": {},
     "output_type": "execute_result"
    }
   ],
   "source": [
    "anime.shape"
   ]
  },
  {
   "cell_type": "markdown",
   "metadata": {
    "id": "dJt4J3px-qT1"
   },
   "source": [
    "* The dataset contains information (15 attributes) about 6523 anime"
   ]
  },
  {
   "cell_type": "markdown",
   "metadata": {
    "id": "5TcqcxbK-qT3"
   },
   "source": [
    "### Checking the data types of the columns for the dataset"
   ]
  },
  {
   "cell_type": "code",
   "execution_count": 8,
   "metadata": {
    "colab": {
     "base_uri": "https://localhost:8080/"
    },
    "id": "AERVi7V5-qT4",
    "outputId": "8f38f85c-11da-4ebe-f00c-08cfe491d64e"
   },
   "outputs": [
    {
     "name": "stdout",
     "output_type": "stream",
     "text": [
      "<class 'pandas.core.frame.DataFrame'>\n",
      "RangeIndex: 6523 entries, 0 to 6522\n",
      "Data columns (total 15 columns):\n",
      " #   Column          Non-Null Count  Dtype  \n",
      "---  ------          --------------  -----  \n",
      " 0   title           6523 non-null   object \n",
      " 1   mediaType       6496 non-null   object \n",
      " 2   eps             6523 non-null   int64  \n",
      " 3   duration        6248 non-null   float64\n",
      " 4   startYr         6523 non-null   int64  \n",
      " 5   finishYr        6523 non-null   int64  \n",
      " 6   description     4114 non-null   object \n",
      " 7   contentWarn     6523 non-null   object \n",
      " 8   watched         6523 non-null   int64  \n",
      " 9   watching        6523 non-null   int64  \n",
      " 10  rating          6523 non-null   float64\n",
      " 11  votes           6496 non-null   float64\n",
      " 12  studio_primary  6523 non-null   object \n",
      " 13  studios_colab   6523 non-null   object \n",
      " 14  genre           6523 non-null   object \n",
      "dtypes: float64(3), int64(5), object(7)\n",
      "memory usage: 764.5+ KB\n"
     ]
    }
   ],
   "source": [
    "anime.info()"
   ]
  },
  {
   "cell_type": "markdown",
   "metadata": {
    "id": "USTWGdhn-qT4"
   },
   "source": [
    "* There are 8 numeric (*float* and *int* type) and 7 string (*object* type) columns in the data\n",
    "* The target variable is the rating of an anime, which is of *float* type"
   ]
  },
  {
   "cell_type": "markdown",
   "metadata": {
    "id": "nUCorhch-qT4"
   },
   "source": [
    "### Statistical summary of the dataset"
   ]
  },
  {
   "cell_type": "code",
   "execution_count": 9,
   "metadata": {
    "colab": {
     "base_uri": "https://localhost:8080/",
     "height": 519
    },
    "id": "dYAOucxD-qT4",
    "outputId": "bb051f4e-8bd9-424e-d187-8b5d1873ed00"
   },
   "outputs": [
    {
     "data": {
      "text/html": [
       "<div>\n",
       "<style scoped>\n",
       "    .dataframe tbody tr th:only-of-type {\n",
       "        vertical-align: middle;\n",
       "    }\n",
       "\n",
       "    .dataframe tbody tr th {\n",
       "        vertical-align: top;\n",
       "    }\n",
       "\n",
       "    .dataframe thead th {\n",
       "        text-align: right;\n",
       "    }\n",
       "</style>\n",
       "<table border=\"1\" class=\"dataframe\">\n",
       "  <thead>\n",
       "    <tr style=\"text-align: right;\">\n",
       "      <th></th>\n",
       "      <th>count</th>\n",
       "      <th>mean</th>\n",
       "      <th>std</th>\n",
       "      <th>min</th>\n",
       "      <th>25%</th>\n",
       "      <th>50%</th>\n",
       "      <th>75%</th>\n",
       "      <th>max</th>\n",
       "    </tr>\n",
       "  </thead>\n",
       "  <tbody>\n",
       "    <tr>\n",
       "      <th>eps</th>\n",
       "      <td>6523.0</td>\n",
       "      <td>8.716235</td>\n",
       "      <td>11.002479</td>\n",
       "      <td>1.000</td>\n",
       "      <td>1.000</td>\n",
       "      <td>1.000</td>\n",
       "      <td>12.000</td>\n",
       "      <td>34.000</td>\n",
       "    </tr>\n",
       "    <tr>\n",
       "      <th>duration</th>\n",
       "      <td>6248.0</td>\n",
       "      <td>18.396287</td>\n",
       "      <td>20.949350</td>\n",
       "      <td>1.000</td>\n",
       "      <td>5.000</td>\n",
       "      <td>7.000</td>\n",
       "      <td>25.000</td>\n",
       "      <td>67.000</td>\n",
       "    </tr>\n",
       "    <tr>\n",
       "      <th>startYr</th>\n",
       "      <td>6523.0</td>\n",
       "      <td>2005.241147</td>\n",
       "      <td>12.911035</td>\n",
       "      <td>1967.000</td>\n",
       "      <td>2000.000</td>\n",
       "      <td>2010.000</td>\n",
       "      <td>2015.000</td>\n",
       "      <td>2020.000</td>\n",
       "    </tr>\n",
       "    <tr>\n",
       "      <th>finishYr</th>\n",
       "      <td>6523.0</td>\n",
       "      <td>2005.575349</td>\n",
       "      <td>12.568169</td>\n",
       "      <td>1970.000</td>\n",
       "      <td>2000.000</td>\n",
       "      <td>2010.000</td>\n",
       "      <td>2015.000</td>\n",
       "      <td>2020.000</td>\n",
       "    </tr>\n",
       "    <tr>\n",
       "      <th>watched</th>\n",
       "      <td>6523.0</td>\n",
       "      <td>1347.948643</td>\n",
       "      <td>1737.138112</td>\n",
       "      <td>5.000</td>\n",
       "      <td>56.000</td>\n",
       "      <td>349.000</td>\n",
       "      <td>2252.500</td>\n",
       "      <td>4649.000</td>\n",
       "    </tr>\n",
       "    <tr>\n",
       "      <th>watching</th>\n",
       "      <td>6523.0</td>\n",
       "      <td>57.445654</td>\n",
       "      <td>76.527405</td>\n",
       "      <td>0.000</td>\n",
       "      <td>2.000</td>\n",
       "      <td>13.000</td>\n",
       "      <td>98.000</td>\n",
       "      <td>199.000</td>\n",
       "    </tr>\n",
       "    <tr>\n",
       "      <th>rating</th>\n",
       "      <td>6523.0</td>\n",
       "      <td>2.962553</td>\n",
       "      <td>0.760486</td>\n",
       "      <td>1.111</td>\n",
       "      <td>2.371</td>\n",
       "      <td>2.944</td>\n",
       "      <td>3.568</td>\n",
       "      <td>4.702</td>\n",
       "    </tr>\n",
       "    <tr>\n",
       "      <th>votes</th>\n",
       "      <td>6496.0</td>\n",
       "      <td>906.253233</td>\n",
       "      <td>1171.677648</td>\n",
       "      <td>10.000</td>\n",
       "      <td>34.000</td>\n",
       "      <td>227.500</td>\n",
       "      <td>1567.750</td>\n",
       "      <td>3100.000</td>\n",
       "    </tr>\n",
       "  </tbody>\n",
       "</table>\n",
       "</div>"
      ],
      "text/plain": [
       "           count         mean          std       min       25%       50%  \\\n",
       "eps       6523.0     8.716235    11.002479     1.000     1.000     1.000   \n",
       "duration  6248.0    18.396287    20.949350     1.000     5.000     7.000   \n",
       "startYr   6523.0  2005.241147    12.911035  1967.000  2000.000  2010.000   \n",
       "finishYr  6523.0  2005.575349    12.568169  1970.000  2000.000  2010.000   \n",
       "watched   6523.0  1347.948643  1737.138112     5.000    56.000   349.000   \n",
       "watching  6523.0    57.445654    76.527405     0.000     2.000    13.000   \n",
       "rating    6523.0     2.962553     0.760486     1.111     2.371     2.944   \n",
       "votes     6496.0   906.253233  1171.677648    10.000    34.000   227.500   \n",
       "\n",
       "               75%       max  \n",
       "eps         12.000    34.000  \n",
       "duration    25.000    67.000  \n",
       "startYr   2015.000  2020.000  \n",
       "finishYr  2015.000  2020.000  \n",
       "watched   2252.500  4649.000  \n",
       "watching    98.000   199.000  \n",
       "rating       3.568     4.702  \n",
       "votes     1567.750  3100.000  "
      ]
     },
     "execution_count": 9,
     "metadata": {},
     "output_type": "execute_result"
    }
   ],
   "source": [
    "anime.describe().T"
   ]
  },
  {
   "cell_type": "markdown",
   "metadata": {},
   "source": [
    "* The anime ratings vary between 1.1 and 4.7, which suggests that the anime were rated on a scale of 0-5\n",
    "* The general rating of anime is 2.96\n",
    "* The number of views for the anime in the data varies from 5 to ~5000\n",
    "* The number of votes received by an anime in the data varies from 10 to 3100"
   ]
  },
  {
   "cell_type": "code",
   "execution_count": 10,
   "metadata": {},
   "outputs": [
    {
     "data": {
      "text/html": [
       "<div>\n",
       "<style scoped>\n",
       "    .dataframe tbody tr th:only-of-type {\n",
       "        vertical-align: middle;\n",
       "    }\n",
       "\n",
       "    .dataframe tbody tr th {\n",
       "        vertical-align: top;\n",
       "    }\n",
       "\n",
       "    .dataframe thead th {\n",
       "        text-align: right;\n",
       "    }\n",
       "</style>\n",
       "<table border=\"1\" class=\"dataframe\">\n",
       "  <thead>\n",
       "    <tr style=\"text-align: right;\">\n",
       "      <th></th>\n",
       "      <th>count</th>\n",
       "      <th>unique</th>\n",
       "      <th>top</th>\n",
       "      <th>freq</th>\n",
       "      <th>mean</th>\n",
       "      <th>std</th>\n",
       "      <th>min</th>\n",
       "      <th>25%</th>\n",
       "      <th>50%</th>\n",
       "      <th>75%</th>\n",
       "      <th>max</th>\n",
       "    </tr>\n",
       "  </thead>\n",
       "  <tbody>\n",
       "    <tr>\n",
       "      <th>title</th>\n",
       "      <td>6523</td>\n",
       "      <td>6523</td>\n",
       "      <td>Dragon Ball Z Movie 15: Resurrection 'F'</td>\n",
       "      <td>1</td>\n",
       "      <td>NaN</td>\n",
       "      <td>NaN</td>\n",
       "      <td>NaN</td>\n",
       "      <td>NaN</td>\n",
       "      <td>NaN</td>\n",
       "      <td>NaN</td>\n",
       "      <td>NaN</td>\n",
       "    </tr>\n",
       "    <tr>\n",
       "      <th>mediaType</th>\n",
       "      <td>6496</td>\n",
       "      <td>8</td>\n",
       "      <td>TV</td>\n",
       "      <td>2145</td>\n",
       "      <td>NaN</td>\n",
       "      <td>NaN</td>\n",
       "      <td>NaN</td>\n",
       "      <td>NaN</td>\n",
       "      <td>NaN</td>\n",
       "      <td>NaN</td>\n",
       "      <td>NaN</td>\n",
       "    </tr>\n",
       "    <tr>\n",
       "      <th>eps</th>\n",
       "      <td>6523.0</td>\n",
       "      <td>NaN</td>\n",
       "      <td>NaN</td>\n",
       "      <td>NaN</td>\n",
       "      <td>8.716235</td>\n",
       "      <td>11.002479</td>\n",
       "      <td>1.0</td>\n",
       "      <td>1.0</td>\n",
       "      <td>1.0</td>\n",
       "      <td>12.0</td>\n",
       "      <td>34.0</td>\n",
       "    </tr>\n",
       "    <tr>\n",
       "      <th>duration</th>\n",
       "      <td>6248.0</td>\n",
       "      <td>NaN</td>\n",
       "      <td>NaN</td>\n",
       "      <td>NaN</td>\n",
       "      <td>18.396287</td>\n",
       "      <td>20.94935</td>\n",
       "      <td>1.0</td>\n",
       "      <td>5.0</td>\n",
       "      <td>7.0</td>\n",
       "      <td>25.0</td>\n",
       "      <td>67.0</td>\n",
       "    </tr>\n",
       "    <tr>\n",
       "      <th>startYr</th>\n",
       "      <td>6523.0</td>\n",
       "      <td>NaN</td>\n",
       "      <td>NaN</td>\n",
       "      <td>NaN</td>\n",
       "      <td>2005.241147</td>\n",
       "      <td>12.911035</td>\n",
       "      <td>1967.0</td>\n",
       "      <td>2000.0</td>\n",
       "      <td>2010.0</td>\n",
       "      <td>2015.0</td>\n",
       "      <td>2020.0</td>\n",
       "    </tr>\n",
       "    <tr>\n",
       "      <th>finishYr</th>\n",
       "      <td>6523.0</td>\n",
       "      <td>NaN</td>\n",
       "      <td>NaN</td>\n",
       "      <td>NaN</td>\n",
       "      <td>2005.575349</td>\n",
       "      <td>12.568169</td>\n",
       "      <td>1970.0</td>\n",
       "      <td>2000.0</td>\n",
       "      <td>2010.0</td>\n",
       "      <td>2015.0</td>\n",
       "      <td>2020.0</td>\n",
       "    </tr>\n",
       "    <tr>\n",
       "      <th>description</th>\n",
       "      <td>4114</td>\n",
       "      <td>4081</td>\n",
       "      <td>In 19th century Belgium, in the Flanders count...</td>\n",
       "      <td>3</td>\n",
       "      <td>NaN</td>\n",
       "      <td>NaN</td>\n",
       "      <td>NaN</td>\n",
       "      <td>NaN</td>\n",
       "      <td>NaN</td>\n",
       "      <td>NaN</td>\n",
       "      <td>NaN</td>\n",
       "    </tr>\n",
       "    <tr>\n",
       "      <th>contentWarn</th>\n",
       "      <td>6523</td>\n",
       "      <td>2</td>\n",
       "      <td>No</td>\n",
       "      <td>5825</td>\n",
       "      <td>NaN</td>\n",
       "      <td>NaN</td>\n",
       "      <td>NaN</td>\n",
       "      <td>NaN</td>\n",
       "      <td>NaN</td>\n",
       "      <td>NaN</td>\n",
       "      <td>NaN</td>\n",
       "    </tr>\n",
       "    <tr>\n",
       "      <th>watched</th>\n",
       "      <td>6523.0</td>\n",
       "      <td>NaN</td>\n",
       "      <td>NaN</td>\n",
       "      <td>NaN</td>\n",
       "      <td>1347.948643</td>\n",
       "      <td>1737.138112</td>\n",
       "      <td>5.0</td>\n",
       "      <td>56.0</td>\n",
       "      <td>349.0</td>\n",
       "      <td>2252.5</td>\n",
       "      <td>4649.0</td>\n",
       "    </tr>\n",
       "    <tr>\n",
       "      <th>watching</th>\n",
       "      <td>6523.0</td>\n",
       "      <td>NaN</td>\n",
       "      <td>NaN</td>\n",
       "      <td>NaN</td>\n",
       "      <td>57.445654</td>\n",
       "      <td>76.527405</td>\n",
       "      <td>0.0</td>\n",
       "      <td>2.0</td>\n",
       "      <td>13.0</td>\n",
       "      <td>98.0</td>\n",
       "      <td>199.0</td>\n",
       "    </tr>\n",
       "    <tr>\n",
       "      <th>rating</th>\n",
       "      <td>6523.0</td>\n",
       "      <td>NaN</td>\n",
       "      <td>NaN</td>\n",
       "      <td>NaN</td>\n",
       "      <td>2.962553</td>\n",
       "      <td>0.760486</td>\n",
       "      <td>1.111</td>\n",
       "      <td>2.371</td>\n",
       "      <td>2.944</td>\n",
       "      <td>3.568</td>\n",
       "      <td>4.702</td>\n",
       "    </tr>\n",
       "    <tr>\n",
       "      <th>votes</th>\n",
       "      <td>6496.0</td>\n",
       "      <td>NaN</td>\n",
       "      <td>NaN</td>\n",
       "      <td>NaN</td>\n",
       "      <td>906.253233</td>\n",
       "      <td>1171.677648</td>\n",
       "      <td>10.0</td>\n",
       "      <td>34.0</td>\n",
       "      <td>227.5</td>\n",
       "      <td>1567.75</td>\n",
       "      <td>3100.0</td>\n",
       "    </tr>\n",
       "    <tr>\n",
       "      <th>studio_primary</th>\n",
       "      <td>6523</td>\n",
       "      <td>11</td>\n",
       "      <td>Others</td>\n",
       "      <td>4684</td>\n",
       "      <td>NaN</td>\n",
       "      <td>NaN</td>\n",
       "      <td>NaN</td>\n",
       "      <td>NaN</td>\n",
       "      <td>NaN</td>\n",
       "      <td>NaN</td>\n",
       "      <td>NaN</td>\n",
       "    </tr>\n",
       "    <tr>\n",
       "      <th>studios_colab</th>\n",
       "      <td>6523</td>\n",
       "      <td>2</td>\n",
       "      <td>No</td>\n",
       "      <td>6210</td>\n",
       "      <td>NaN</td>\n",
       "      <td>NaN</td>\n",
       "      <td>NaN</td>\n",
       "      <td>NaN</td>\n",
       "      <td>NaN</td>\n",
       "      <td>NaN</td>\n",
       "      <td>NaN</td>\n",
       "    </tr>\n",
       "    <tr>\n",
       "      <th>genre</th>\n",
       "      <td>6523</td>\n",
       "      <td>9</td>\n",
       "      <td>Other</td>\n",
       "      <td>5468</td>\n",
       "      <td>NaN</td>\n",
       "      <td>NaN</td>\n",
       "      <td>NaN</td>\n",
       "      <td>NaN</td>\n",
       "      <td>NaN</td>\n",
       "      <td>NaN</td>\n",
       "      <td>NaN</td>\n",
       "    </tr>\n",
       "  </tbody>\n",
       "</table>\n",
       "</div>"
      ],
      "text/plain": [
       "                 count unique  \\\n",
       "title             6523   6523   \n",
       "mediaType         6496      8   \n",
       "eps             6523.0    NaN   \n",
       "duration        6248.0    NaN   \n",
       "startYr         6523.0    NaN   \n",
       "finishYr        6523.0    NaN   \n",
       "description       4114   4081   \n",
       "contentWarn       6523      2   \n",
       "watched         6523.0    NaN   \n",
       "watching        6523.0    NaN   \n",
       "rating          6523.0    NaN   \n",
       "votes           6496.0    NaN   \n",
       "studio_primary    6523     11   \n",
       "studios_colab     6523      2   \n",
       "genre             6523      9   \n",
       "\n",
       "                                                              top  freq  \\\n",
       "title                    Dragon Ball Z Movie 15: Resurrection 'F'     1   \n",
       "mediaType                                                      TV  2145   \n",
       "eps                                                           NaN   NaN   \n",
       "duration                                                      NaN   NaN   \n",
       "startYr                                                       NaN   NaN   \n",
       "finishYr                                                      NaN   NaN   \n",
       "description     In 19th century Belgium, in the Flanders count...     3   \n",
       "contentWarn                                                    No  5825   \n",
       "watched                                                       NaN   NaN   \n",
       "watching                                                      NaN   NaN   \n",
       "rating                                                        NaN   NaN   \n",
       "votes                                                         NaN   NaN   \n",
       "studio_primary                                             Others  4684   \n",
       "studios_colab                                                  No  6210   \n",
       "genre                                                       Other  5468   \n",
       "\n",
       "                       mean          std     min     25%     50%      75%  \\\n",
       "title                   NaN          NaN     NaN     NaN     NaN      NaN   \n",
       "mediaType               NaN          NaN     NaN     NaN     NaN      NaN   \n",
       "eps                8.716235    11.002479     1.0     1.0     1.0     12.0   \n",
       "duration          18.396287     20.94935     1.0     5.0     7.0     25.0   \n",
       "startYr         2005.241147    12.911035  1967.0  2000.0  2010.0   2015.0   \n",
       "finishYr        2005.575349    12.568169  1970.0  2000.0  2010.0   2015.0   \n",
       "description             NaN          NaN     NaN     NaN     NaN      NaN   \n",
       "contentWarn             NaN          NaN     NaN     NaN     NaN      NaN   \n",
       "watched         1347.948643  1737.138112     5.0    56.0   349.0   2252.5   \n",
       "watching          57.445654    76.527405     0.0     2.0    13.0     98.0   \n",
       "rating             2.962553     0.760486   1.111   2.371   2.944    3.568   \n",
       "votes            906.253233  1171.677648    10.0    34.0   227.5  1567.75   \n",
       "studio_primary          NaN          NaN     NaN     NaN     NaN      NaN   \n",
       "studios_colab           NaN          NaN     NaN     NaN     NaN      NaN   \n",
       "genre                   NaN          NaN     NaN     NaN     NaN      NaN   \n",
       "\n",
       "                   max  \n",
       "title              NaN  \n",
       "mediaType          NaN  \n",
       "eps               34.0  \n",
       "duration          67.0  \n",
       "startYr         2020.0  \n",
       "finishYr        2020.0  \n",
       "description        NaN  \n",
       "contentWarn        NaN  \n",
       "watched         4649.0  \n",
       "watching         199.0  \n",
       "rating           4.702  \n",
       "votes           3100.0  \n",
       "studio_primary     NaN  \n",
       "studios_colab      NaN  \n",
       "genre              NaN  "
      ]
     },
     "execution_count": 10,
     "metadata": {},
     "output_type": "execute_result"
    }
   ],
   "source": [
    "anime.describe(include=\"all\").T"
   ]
  },
  {
   "cell_type": "markdown",
   "metadata": {
    "id": "SBFm-rJo-qT5"
   },
   "source": [
    "* *TV* is the most occurring type of media."
   ]
  },
  {
   "cell_type": "markdown",
   "metadata": {
    "id": "xNr4bWoM-qT5"
   },
   "source": [
    "### Checking for duplicate values"
   ]
  },
  {
   "cell_type": "code",
   "execution_count": 11,
   "metadata": {
    "colab": {
     "base_uri": "https://localhost:8080/"
    },
    "id": "YgVk5F0-C-OT",
    "outputId": "d04ac158-24a0-47ae-a596-2be5335d37df"
   },
   "outputs": [
    {
     "data": {
      "text/plain": [
       "0"
      ]
     },
     "execution_count": 11,
     "metadata": {},
     "output_type": "execute_result"
    }
   ],
   "source": [
    "anime.duplicated().sum()"
   ]
  },
  {
   "cell_type": "markdown",
   "metadata": {
    "id": "vGlBm81cC-OT"
   },
   "source": [
    "* There are no duplicate values in the data"
   ]
  },
  {
   "cell_type": "markdown",
   "metadata": {
    "id": "Ch_TjRfF-qT5"
   },
   "source": [
    "### Checking for missing values"
   ]
  },
  {
   "cell_type": "code",
   "execution_count": 13,
   "metadata": {
    "colab": {
     "base_uri": "https://localhost:8080/"
    },
    "id": "iaHeNmvo-qT6",
    "outputId": "b21f8d42-9dd6-4719-8e19-9690f293977c"
   },
   "outputs": [
    {
     "data": {
      "text/plain": [
       "title                0\n",
       "mediaType           27\n",
       "eps                  0\n",
       "duration           275\n",
       "startYr              0\n",
       "finishYr             0\n",
       "description       2409\n",
       "contentWarn          0\n",
       "watched              0\n",
       "watching             0\n",
       "rating               0\n",
       "votes               27\n",
       "studio_primary       0\n",
       "studios_colab        0\n",
       "genre                0\n",
       "dtype: int64"
      ]
     },
     "execution_count": 13,
     "metadata": {},
     "output_type": "execute_result"
    }
   ],
   "source": [
    "anime.isna().sum()"
   ]
  },
  {
   "cell_type": "markdown",
   "metadata": {
    "id": "XjQof-y7-qT6"
   },
   "source": [
    "* There are missing values in `mediaType`, `duration`, `description`, and `votes` columns."
   ]
  },
  {
   "cell_type": "code",
   "execution_count": 14,
   "metadata": {
    "id": "WoL1qjt7-qT6",
    "outputId": "7b9a33f0-8243-4478-a327-72470e5b6057"
   },
   "outputs": [],
   "source": [
    "# creating a copy of the data so that original data remains unchanged\n",
    "anime_copy = anime.copy()"
   ]
  },
  {
   "cell_type": "markdown",
   "metadata": {
    "id": "VjmJBEKSQjcH"
   },
   "source": [
    "## Exploratory Data Analysis (EDA) "
   ]
  },
  {
   "cell_type": "code",
   "execution_count": 15,
   "metadata": {
    "id": "PD8YQ2heGMiu",
    "outputId": "1a487d7d-ae1f-4186-a16e-0eec926a2685"
   },
   "outputs": [],
   "source": [
    "# creating a list of numerical columns\n",
    "num_cols = anime_copy.select_dtypes(include=np.number).columns.tolist()\n",
    "\n",
    "# dropping start and finish year from list of numerical columns as they are not numerical in nature\n",
    "num_cols.remove(\"startYr\")\n",
    "num_cols.remove(\"finishYr\")"
   ]
  },
  {
   "cell_type": "code",
   "execution_count": 16,
   "metadata": {
    "colab": {
     "base_uri": "https://localhost:8080/"
    },
    "id": "8cx-I-saF_Pk",
    "outputId": "52162f55-ea12-471f-a03a-95082df94937"
   },
   "outputs": [
    {
     "data": {
      "image/png": "[encoded data removed]",
      "text/plain": [
       "<Figure size 864x504 with 2 Axes>"
      ]
     },
     "metadata": {},
     "output_type": "display_data"
    }
   ],
   "source": [
    "plt.figure(figsize=(12, 7))\n",
    "sns.heatmap(\n",
    "    anime_copy[num_cols].corr(), annot=True, vmin=-1, vmax=1, fmt=\".2f\", cmap=\"Spectral\"\n",
    ")\n",
    "plt.show()"
   ]
  },
  {
   "cell_type": "markdown",
   "metadata": {
    "id": "PRUCZOJMIYWn"
   },
   "source": [
    "* Anime available as web series or music videos have a lower rating in general"
   ]
  },
  {
   "cell_type": "code",
   "execution_count": 17,
   "metadata": {
    "colab": {
     "base_uri": "https://localhost:8080/"
    },
    "id": "-nLQjELfIW3Z",
    "outputId": "86c2fdbf-2890-48cc-cdb2-f6eba60b6cfa"
   },
   "outputs": [
    {
     "data": {
      "image/png": "[encoded data removed]",
      "text/plain": [
       "<Figure size 720x360 with 1 Axes>"
      ]
     },
     "metadata": {},
     "output_type": "display_data"
    }
   ],
   "source": [
    "plt.figure(figsize=(10, 5))\n",
    "sns.boxplot(data=anime_copy, x=\"mediaType\", y=\"rating\")\n",
    "plt.show()"
   ]
  },
  {
   "cell_type": "markdown",
   "metadata": {
    "id": "wM_HXGIKGug6"
   },
   "source": [
    "* Anime under the genre of Drama are rated the highest in general, while those under the genre of Comedy and rated the least"
   ]
  },
  {
   "cell_type": "code",
   "execution_count": 18,
   "metadata": {
    "colab": {
     "base_uri": "https://localhost:8080/"
    },
    "id": "6P8Mwv1DGb8w",
    "outputId": "04fa7570-1047-4f6d-c2f5-acde4dcb79fc"
   },
   "outputs": [
    {
     "data": {
      "image/png": "[encoded data removed]",
      "text/plain": [
       "<Figure size 1080x360 with 1 Axes>"
      ]
     },
     "metadata": {},
     "output_type": "display_data"
    }
   ],
   "source": [
    "plt.figure(figsize=(15, 5))\n",
    "sns.boxplot(data=anime_copy, x=\"genre\", y=\"rating\")\n",
    "plt.show()"
   ]
  },
  {
   "cell_type": "markdown",
   "metadata": {
    "id": "ivNZL3tcGeNU"
   },
   "source": [
    "* Anime under the genres of Drama and Romance have higher viewership in general"
   ]
  },
  {
   "cell_type": "code",
   "execution_count": 19,
   "metadata": {
    "colab": {
     "base_uri": "https://localhost:8080/"
    },
    "id": "Sf4p3w3wGept",
    "outputId": "f76adb25-eb62-4a30-a226-df7dca4945a2"
   },
   "outputs": [
    {
     "data": {
      "image/png": "[encoded data removed]",
      "text/plain": [
       "<Figure size 1080x360 with 1 Axes>"
      ]
     },
     "metadata": {},
     "output_type": "display_data"
    }
   ],
   "source": [
    "plt.figure(figsize=(15, 5))\n",
    "sns.boxplot(data=anime_copy, x=\"genre\", y=\"watched\")\n",
    "plt.show()"
   ]
  },
  {
   "cell_type": "markdown",
   "metadata": {
    "id": "jCiTS3VSIl-k"
   },
   "source": [
    "* Anime from the Drama and Romance genres are being watched more in general"
   ]
  },
  {
   "cell_type": "code",
   "execution_count": 20,
   "metadata": {
    "colab": {
     "base_uri": "https://localhost:8080/"
    },
    "id": "wAI-7QM5Gfnc",
    "outputId": "7e8c22c2-c46a-49c9-df38-e152d98ca028"
   },
   "outputs": [
    {
     "data": {
      "image/png": "[encoded data removed]",
      "text/plain": [
       "<Figure size 1080x360 with 1 Axes>"
      ]
     },
     "metadata": {},
     "output_type": "display_data"
    }
   ],
   "source": [
    "plt.figure(figsize=(15, 5))\n",
    "sns.boxplot(data=anime_copy, x=\"genre\", y=\"watching\")\n",
    "plt.show()"
   ]
  },
  {
   "cell_type": "markdown",
   "metadata": {
    "id": "Q8c5wTb_lMVm"
   },
   "source": [
    "* Anime released as movies or TV speicals have the highest duration while music videos have the lowest, which is expected"
   ]
  },
  {
   "cell_type": "code",
   "execution_count": 21,
   "metadata": {
    "colab": {
     "base_uri": "https://localhost:8080/"
    },
    "id": "5L1vPUuIlMVl",
    "outputId": "baa574f4-8aa6-47b3-e799-136ff76042d2"
   },
   "outputs": [
    {
     "data": {
      "image/png": "[encoded data removed]",
      "text/plain": [
       "<Figure size 720x360 with 1 Axes>"
      ]
     },
     "metadata": {},
     "output_type": "display_data"
    }
   ],
   "source": [
    "plt.figure(figsize=(10, 5))\n",
    "sns.boxplot(data=anime_copy, x=\"mediaType\", y=\"duration\")\n",
    "plt.show()"
   ]
  },
  {
   "cell_type": "markdown",
   "metadata": {
    "id": "kQ5wsxwA-qUG"
   },
   "source": [
    "## Data Preprocessing"
   ]
  },
  {
   "cell_type": "markdown",
   "metadata": {
    "id": "wYF-RsrNqH0E"
   },
   "source": [
    "### Missing Value Treatment"
   ]
  },
  {
   "cell_type": "code",
   "execution_count": 22,
   "metadata": {
    "colab": {
     "base_uri": "https://localhost:8080/"
    },
    "id": "jvXgF1J3-qUH",
    "outputId": "e4d067a6-902d-438a-e4e3-7239b1228803"
   },
   "outputs": [
    {
     "data": {
      "text/plain": [
       "title                0\n",
       "mediaType           27\n",
       "eps                  0\n",
       "duration           275\n",
       "startYr              0\n",
       "finishYr             0\n",
       "description       2409\n",
       "contentWarn          0\n",
       "watched              0\n",
       "watching             0\n",
       "rating               0\n",
       "votes               27\n",
       "studio_primary       0\n",
       "studios_colab        0\n",
       "genre                0\n",
       "dtype: int64"
      ]
     },
     "execution_count": 22,
     "metadata": {},
     "output_type": "execute_result"
    }
   ],
   "source": [
    "anime_copy.isna().sum()"
   ]
  },
  {
   "cell_type": "markdown",
   "metadata": {
    "id": "_AFN0aGk-qUH"
   },
   "source": [
    "Let's fix the missing values in the data.\n",
    "\n",
    "- `mediaType`, impute the missing values with '*Other*'\n",
    "- `duration` and `votes`, we will impute the missing values in each column with the median grouped by `genre` and `mediaType`"
   ]
  },
  {
   "cell_type": "code",
   "execution_count": 23,
   "metadata": {
    "id": "u_nkqf4I-qUI",
    "outputId": "12b0e5f5-1953-4f43-c28c-1e89371ecfdf"
   },
   "outputs": [],
   "source": [
    "anime_copy.mediaType.fillna(\"Other\", inplace=True)"
   ]
  },
  {
   "cell_type": "code",
   "execution_count": 38,
   "metadata": {
    "colab": {
     "base_uri": "https://localhost:8080/"
    },
    "id": "RkPvobr4-qUI",
    "outputId": "e65bc242-353e-470b-90d7-99e15218083e"
   },
   "outputs": [],
   "source": [
    "anime_copy[\"duration\"] = anime_copy[\"duration\"].fillna(\n",
    "    value=anime_copy.groupby([\"genre\", \"mediaType\"])[\"duration\"].transform(\"median\")\n",
    ")\n",
    "anime_copy[\"votes\"] = anime_copy[\"votes\"].fillna(\n",
    "    value=anime_copy.groupby([\"genre\", \"mediaType\"])[\"votes\"].transform(\"median\")\n",
    ")\n"
   ]
  },
  {
   "cell_type": "code",
   "execution_count": 39,
   "metadata": {},
   "outputs": [
    {
     "data": {
      "text/plain": [
       "title                0\n",
       "mediaType            0\n",
       "eps                  0\n",
       "duration             8\n",
       "startYr              0\n",
       "finishYr             0\n",
       "description       2409\n",
       "contentWarn          0\n",
       "watched              0\n",
       "watching             0\n",
       "rating               0\n",
       "votes                0\n",
       "studio_primary       0\n",
       "studios_colab        0\n",
       "genre                0\n",
       "dtype: int64"
      ]
     },
     "execution_count": 39,
     "metadata": {},
     "output_type": "execute_result"
    }
   ],
   "source": [
    "anime_copy.isna().sum()"
   ]
  },
  {
   "cell_type": "markdown",
   "metadata": {
    "id": "c4zHqWJf-qUI"
   },
   "source": [
    "* We will impute the remaining missing values in the `duration` column with the median grouped by `genre`"
   ]
  },
  {
   "cell_type": "code",
   "execution_count": 41,
   "metadata": {
    "colab": {
     "base_uri": "https://localhost:8080/"
    },
    "id": "99vleHsL-qUI",
    "outputId": "350768d7-40fb-4cb4-a21d-fa673d9be193"
   },
   "outputs": [],
   "source": [
    "anime_copy[\"duration\"] = anime_copy[\"duration\"].fillna(\n",
    "    value=anime_copy.groupby([\"genre\"])[\"duration\"].transform(\"median\")\n",
    ")"
   ]
  },
  {
   "cell_type": "code",
   "execution_count": 42,
   "metadata": {},
   "outputs": [
    {
     "data": {
      "text/plain": [
       "title                0\n",
       "mediaType            0\n",
       "eps                  0\n",
       "duration             0\n",
       "startYr              0\n",
       "finishYr             0\n",
       "description       2409\n",
       "contentWarn          0\n",
       "watched              0\n",
       "watching             0\n",
       "rating               0\n",
       "votes                0\n",
       "studio_primary       0\n",
       "studios_colab        0\n",
       "genre                0\n",
       "dtype: int64"
      ]
     },
     "execution_count": 42,
     "metadata": {},
     "output_type": "execute_result"
    }
   ],
   "source": [
    "anime_copy.isna().sum()"
   ]
  },
  {
   "cell_type": "markdown",
   "metadata": {
    "id": "VANP78tq-qUJ"
   },
   "source": [
    "- All the missing values have been treated."
   ]
  },
  {
   "cell_type": "markdown",
   "metadata": {
    "id": "iqLh_w63-qUJ"
   },
   "source": [
    "### Feature Engineering"
   ]
  },
  {
   "cell_type": "markdown",
   "metadata": {
    "id": "g0jUAxDX-qUJ"
   },
   "source": [
    "* Create a new feature `years_running` by taking the difference between `finishYr` and `startYr` columns\n",
    "* Drop the original columns once the new feature is created "
   ]
  },
  {
   "cell_type": "code",
   "execution_count": 43,
   "metadata": {
    "colab": {
     "base_uri": "https://localhost:8080/",
     "height": 389
    },
    "id": "qFWtCpE7-qUJ",
    "outputId": "dba43853-03be-4bde-828b-cdc9f20af210"
   },
   "outputs": [
    {
     "data": {
      "text/html": [
       "<div>\n",
       "<style scoped>\n",
       "    .dataframe tbody tr th:only-of-type {\n",
       "        vertical-align: middle;\n",
       "    }\n",
       "\n",
       "    .dataframe tbody tr th {\n",
       "        vertical-align: top;\n",
       "    }\n",
       "\n",
       "    .dataframe thead th {\n",
       "        text-align: right;\n",
       "    }\n",
       "</style>\n",
       "<table border=\"1\" class=\"dataframe\">\n",
       "  <thead>\n",
       "    <tr style=\"text-align: right;\">\n",
       "      <th></th>\n",
       "      <th>title</th>\n",
       "      <th>mediaType</th>\n",
       "      <th>eps</th>\n",
       "      <th>duration</th>\n",
       "      <th>description</th>\n",
       "      <th>contentWarn</th>\n",
       "      <th>watched</th>\n",
       "      <th>watching</th>\n",
       "      <th>rating</th>\n",
       "      <th>votes</th>\n",
       "      <th>studio_primary</th>\n",
       "      <th>studios_colab</th>\n",
       "      <th>genre</th>\n",
       "      <th>years_running</th>\n",
       "    </tr>\n",
       "  </thead>\n",
       "  <tbody>\n",
       "    <tr>\n",
       "      <th>0</th>\n",
       "      <td>Dragon Ball Z Movie 15: Resurrection 'F'</td>\n",
       "      <td>Movie</td>\n",
       "      <td>1</td>\n",
       "      <td>67.0</td>\n",
       "      <td>Even the complete obliteration of his physical...</td>\n",
       "      <td>No</td>\n",
       "      <td>4649</td>\n",
       "      <td>86</td>\n",
       "      <td>3.979</td>\n",
       "      <td>3100.0</td>\n",
       "      <td>Toei Animation</td>\n",
       "      <td>No</td>\n",
       "      <td>Other</td>\n",
       "      <td>0</td>\n",
       "    </tr>\n",
       "    <tr>\n",
       "      <th>1</th>\n",
       "      <td>Kuripuri*Kuripura</td>\n",
       "      <td>Movie</td>\n",
       "      <td>1</td>\n",
       "      <td>5.0</td>\n",
       "      <td>NaN</td>\n",
       "      <td>No</td>\n",
       "      <td>10</td>\n",
       "      <td>0</td>\n",
       "      <td>2.120</td>\n",
       "      <td>10.0</td>\n",
       "      <td>Others</td>\n",
       "      <td>No</td>\n",
       "      <td>Other</td>\n",
       "      <td>0</td>\n",
       "    </tr>\n",
       "    <tr>\n",
       "      <th>2</th>\n",
       "      <td>GJ-bu@</td>\n",
       "      <td>TV Special</td>\n",
       "      <td>1</td>\n",
       "      <td>46.0</td>\n",
       "      <td>The story is set during the spring vacation im...</td>\n",
       "      <td>No</td>\n",
       "      <td>1630</td>\n",
       "      <td>16</td>\n",
       "      <td>3.758</td>\n",
       "      <td>1103.0</td>\n",
       "      <td>Others</td>\n",
       "      <td>No</td>\n",
       "      <td>Other</td>\n",
       "      <td>0</td>\n",
       "    </tr>\n",
       "    <tr>\n",
       "      <th>3</th>\n",
       "      <td>Nausicaa of the Valley of the Wind</td>\n",
       "      <td>Movie</td>\n",
       "      <td>1</td>\n",
       "      <td>67.0</td>\n",
       "      <td>One thousand years after the Giant Warriors ca...</td>\n",
       "      <td>No</td>\n",
       "      <td>4649</td>\n",
       "      <td>184</td>\n",
       "      <td>4.444</td>\n",
       "      <td>3100.0</td>\n",
       "      <td>Others</td>\n",
       "      <td>No</td>\n",
       "      <td>Drama</td>\n",
       "      <td>0</td>\n",
       "    </tr>\n",
       "    <tr>\n",
       "      <th>4</th>\n",
       "      <td>Miru Tights Special</td>\n",
       "      <td>DVD Special</td>\n",
       "      <td>1</td>\n",
       "      <td>4.0</td>\n",
       "      <td>Yua is asked to model an illustrator's designs...</td>\n",
       "      <td>No</td>\n",
       "      <td>346</td>\n",
       "      <td>8</td>\n",
       "      <td>2.494</td>\n",
       "      <td>234.0</td>\n",
       "      <td>Others</td>\n",
       "      <td>No</td>\n",
       "      <td>Other</td>\n",
       "      <td>0</td>\n",
       "    </tr>\n",
       "  </tbody>\n",
       "</table>\n",
       "</div>"
      ],
      "text/plain": [
       "                                      title    mediaType  eps  duration  \\\n",
       "0  Dragon Ball Z Movie 15: Resurrection 'F'        Movie    1      67.0   \n",
       "1                         Kuripuri*Kuripura        Movie    1       5.0   \n",
       "2                                    GJ-bu@   TV Special    1      46.0   \n",
       "3        Nausicaa of the Valley of the Wind        Movie    1      67.0   \n",
       "4                       Miru Tights Special  DVD Special    1       4.0   \n",
       "\n",
       "                                         description contentWarn  watched  \\\n",
       "0  Even the complete obliteration of his physical...          No     4649   \n",
       "1                                                NaN          No       10   \n",
       "2  The story is set during the spring vacation im...          No     1630   \n",
       "3  One thousand years after the Giant Warriors ca...          No     4649   \n",
       "4  Yua is asked to model an illustrator's designs...          No      346   \n",
       "\n",
       "   watching  rating   votes  studio_primary studios_colab  genre  \\\n",
       "0        86   3.979  3100.0  Toei Animation            No  Other   \n",
       "1         0   2.120    10.0          Others            No  Other   \n",
       "2        16   3.758  1103.0          Others            No  Other   \n",
       "3       184   4.444  3100.0          Others            No  Drama   \n",
       "4         8   2.494   234.0          Others            No  Other   \n",
       "\n",
       "   years_running  \n",
       "0              0  \n",
       "1              0  \n",
       "2              0  \n",
       "3              0  \n",
       "4              0  "
      ]
     },
     "execution_count": 43,
     "metadata": {},
     "output_type": "execute_result"
    }
   ],
   "source": [
    "anime_copy[\"years_running\"] = anime_copy[\"finishYr\"] - anime_copy[\"startYr\"]\n",
    "anime_copy.drop([\"startYr\", \"finishYr\"], axis=1, inplace=True)\n",
    "anime_copy.head()"
   ]
  },
  {
   "cell_type": "code",
   "execution_count": 44,
   "metadata": {
    "colab": {
     "base_uri": "https://localhost:8080/",
     "height": 206
    },
    "id": "4qsAAvsO-qUL",
    "outputId": "f24a0fb2-9683-4515-b990-a208a60d538e"
   },
   "outputs": [
    {
     "data": {
      "text/html": [
       "<div>\n",
       "<style scoped>\n",
       "    .dataframe tbody tr th:only-of-type {\n",
       "        vertical-align: middle;\n",
       "    }\n",
       "\n",
       "    .dataframe tbody tr th {\n",
       "        vertical-align: top;\n",
       "    }\n",
       "\n",
       "    .dataframe thead th {\n",
       "        text-align: right;\n",
       "    }\n",
       "</style>\n",
       "<table border=\"1\" class=\"dataframe\">\n",
       "  <thead>\n",
       "    <tr style=\"text-align: right;\">\n",
       "      <th></th>\n",
       "      <th>mediaType</th>\n",
       "      <th>eps</th>\n",
       "      <th>duration</th>\n",
       "      <th>contentWarn</th>\n",
       "      <th>watched</th>\n",
       "      <th>watching</th>\n",
       "      <th>rating</th>\n",
       "      <th>votes</th>\n",
       "      <th>studio_primary</th>\n",
       "      <th>studios_colab</th>\n",
       "      <th>genre</th>\n",
       "      <th>years_running</th>\n",
       "    </tr>\n",
       "  </thead>\n",
       "  <tbody>\n",
       "    <tr>\n",
       "      <th>0</th>\n",
       "      <td>Movie</td>\n",
       "      <td>1</td>\n",
       "      <td>67.0</td>\n",
       "      <td>No</td>\n",
       "      <td>4649</td>\n",
       "      <td>86</td>\n",
       "      <td>3.979</td>\n",
       "      <td>3100.0</td>\n",
       "      <td>Toei Animation</td>\n",
       "      <td>No</td>\n",
       "      <td>Other</td>\n",
       "      <td>0</td>\n",
       "    </tr>\n",
       "    <tr>\n",
       "      <th>1</th>\n",
       "      <td>Movie</td>\n",
       "      <td>1</td>\n",
       "      <td>5.0</td>\n",
       "      <td>No</td>\n",
       "      <td>10</td>\n",
       "      <td>0</td>\n",
       "      <td>2.120</td>\n",
       "      <td>10.0</td>\n",
       "      <td>Others</td>\n",
       "      <td>No</td>\n",
       "      <td>Other</td>\n",
       "      <td>0</td>\n",
       "    </tr>\n",
       "    <tr>\n",
       "      <th>2</th>\n",
       "      <td>TV Special</td>\n",
       "      <td>1</td>\n",
       "      <td>46.0</td>\n",
       "      <td>No</td>\n",
       "      <td>1630</td>\n",
       "      <td>16</td>\n",
       "      <td>3.758</td>\n",
       "      <td>1103.0</td>\n",
       "      <td>Others</td>\n",
       "      <td>No</td>\n",
       "      <td>Other</td>\n",
       "      <td>0</td>\n",
       "    </tr>\n",
       "    <tr>\n",
       "      <th>3</th>\n",
       "      <td>Movie</td>\n",
       "      <td>1</td>\n",
       "      <td>67.0</td>\n",
       "      <td>No</td>\n",
       "      <td>4649</td>\n",
       "      <td>184</td>\n",
       "      <td>4.444</td>\n",
       "      <td>3100.0</td>\n",
       "      <td>Others</td>\n",
       "      <td>No</td>\n",
       "      <td>Drama</td>\n",
       "      <td>0</td>\n",
       "    </tr>\n",
       "    <tr>\n",
       "      <th>4</th>\n",
       "      <td>DVD Special</td>\n",
       "      <td>1</td>\n",
       "      <td>4.0</td>\n",
       "      <td>No</td>\n",
       "      <td>346</td>\n",
       "      <td>8</td>\n",
       "      <td>2.494</td>\n",
       "      <td>234.0</td>\n",
       "      <td>Others</td>\n",
       "      <td>No</td>\n",
       "      <td>Other</td>\n",
       "      <td>0</td>\n",
       "    </tr>\n",
       "  </tbody>\n",
       "</table>\n",
       "</div>"
      ],
      "text/plain": [
       "     mediaType  eps  duration contentWarn  watched  watching  rating   votes  \\\n",
       "0        Movie    1      67.0          No     4649        86   3.979  3100.0   \n",
       "1        Movie    1       5.0          No       10         0   2.120    10.0   \n",
       "2   TV Special    1      46.0          No     1630        16   3.758  1103.0   \n",
       "3        Movie    1      67.0          No     4649       184   4.444  3100.0   \n",
       "4  DVD Special    1       4.0          No      346         8   2.494   234.0   \n",
       "\n",
       "   studio_primary studios_colab  genre  years_running  \n",
       "0  Toei Animation            No  Other              0  \n",
       "1          Others            No  Other              0  \n",
       "2          Others            No  Other              0  \n",
       "3          Others            No  Drama              0  \n",
       "4          Others            No  Other              0  "
      ]
     },
     "execution_count": 44,
     "metadata": {},
     "output_type": "execute_result"
    }
   ],
   "source": [
    "anime_copy.drop([\"title\", \"description\"], axis=1, inplace=True)\n",
    "anime_copy.head()"
   ]
  },
  {
   "cell_type": "markdown",
   "metadata": {
    "id": "1THqC335b4Yi"
   },
   "source": [
    "### Data Preparation for Modeling"
   ]
  },
  {
   "cell_type": "markdown",
   "metadata": {
    "id": "lUSYueQxAngg"
   },
   "source": [
    "- Our aim is to predict the rating of an anime\n",
    "- Before building the model, we'll encode our categorical features by using `One Hot Encoding`"
   ]
  },
  {
   "cell_type": "code",
   "execution_count": 46,
   "metadata": {
    "colab": {
     "base_uri": "https://localhost:8080/"
    },
    "id": "372WHRhJGpj4",
    "outputId": "60c51ff9-5e30-44be-fd80-4d95a7730496"
   },
   "outputs": [
    {
     "name": "stdout",
     "output_type": "stream",
     "text": [
      "     mediaType  eps  duration contentWarn  watched  watching   votes  \\\n",
      "0        Movie    1      67.0          No     4649        86  3100.0   \n",
      "1        Movie    1       5.0          No       10         0    10.0   \n",
      "2   TV Special    1      46.0          No     1630        16  1103.0   \n",
      "3        Movie    1      67.0          No     4649       184  3100.0   \n",
      "4  DVD Special    1       4.0          No      346         8   234.0   \n",
      "\n",
      "   studio_primary studios_colab  genre  years_running  \n",
      "0  Toei Animation            No  Other              0  \n",
      "1          Others            No  Other              0  \n",
      "2          Others            No  Other              0  \n",
      "3          Others            No  Drama              0  \n",
      "4          Others            No  Other              0  \n",
      "0    3.979\n",
      "1    2.120\n",
      "2    3.758\n",
      "3    4.444\n",
      "4    2.494\n",
      "Name: rating, dtype: float64\n"
     ]
    }
   ],
   "source": [
    "# defining X (Independent) and y (Dependent) variables\n",
    "X = anime_copy.drop([\"rating\"], axis=1)\n",
    "y = anime_copy[\"rating\"]\n",
    "\n",
    "print(X.head())\n",
    "print(y.head())"
   ]
  },
  {
   "cell_type": "code",
   "execution_count": 47,
   "metadata": {
    "colab": {
     "base_uri": "https://localhost:8080/"
    },
    "id": "U3dbod_t-qUM",
    "outputId": "95c2fbdd-71c8-4073-bc07-b99f746e3e9d"
   },
   "outputs": [
    {
     "name": "stderr",
     "output_type": "stream",
     "text": [
      "C:\\Users\\lenovo\\anaconda3\\lib\\site-packages\\statsmodels\\tsa\\tsatools.py:142: FutureWarning: In a future version of pandas all arguments of concat except for the argument 'objs' will be keyword-only\n",
      "  x = pd.concat(x[::order], 1)\n"
     ]
    }
   ],
   "source": [
    "# let's add the intercept to data\n",
    "X = sm.add_constant(X)"
   ]
  },
  {
   "cell_type": "code",
   "execution_count": 48,
   "metadata": {
    "colab": {
     "base_uri": "https://localhost:8080/",
     "height": 317
    },
    "id": "AHEOjrb8N-4b",
    "outputId": "3cb2dd33-4cbc-4859-a47a-11aee4f6bb59"
   },
   "outputs": [
    {
     "data": {
      "text/html": [
       "<div>\n",
       "<style scoped>\n",
       "    .dataframe tbody tr th:only-of-type {\n",
       "        vertical-align: middle;\n",
       "    }\n",
       "\n",
       "    .dataframe tbody tr th {\n",
       "        vertical-align: top;\n",
       "    }\n",
       "\n",
       "    .dataframe thead th {\n",
       "        text-align: right;\n",
       "    }\n",
       "</style>\n",
       "<table border=\"1\" class=\"dataframe\">\n",
       "  <thead>\n",
       "    <tr style=\"text-align: right;\">\n",
       "      <th></th>\n",
       "      <th>const</th>\n",
       "      <th>eps</th>\n",
       "      <th>duration</th>\n",
       "      <th>watched</th>\n",
       "      <th>watching</th>\n",
       "      <th>votes</th>\n",
       "      <th>years_running</th>\n",
       "      <th>mediaType_Movie</th>\n",
       "      <th>mediaType_Music Video</th>\n",
       "      <th>mediaType_OVA</th>\n",
       "      <th>...</th>\n",
       "      <th>studio_primary_Toei Animation</th>\n",
       "      <th>studios_colab_Yes</th>\n",
       "      <th>genre_Adventure</th>\n",
       "      <th>genre_Based on a Manga</th>\n",
       "      <th>genre_Comedy</th>\n",
       "      <th>genre_Drama</th>\n",
       "      <th>genre_Fantasy</th>\n",
       "      <th>genre_Other</th>\n",
       "      <th>genre_Romance</th>\n",
       "      <th>genre_Sci Fi</th>\n",
       "    </tr>\n",
       "  </thead>\n",
       "  <tbody>\n",
       "    <tr>\n",
       "      <th>0</th>\n",
       "      <td>1.0</td>\n",
       "      <td>1</td>\n",
       "      <td>67.0</td>\n",
       "      <td>4649</td>\n",
       "      <td>86</td>\n",
       "      <td>3100.0</td>\n",
       "      <td>0</td>\n",
       "      <td>1</td>\n",
       "      <td>0</td>\n",
       "      <td>0</td>\n",
       "      <td>...</td>\n",
       "      <td>1</td>\n",
       "      <td>0</td>\n",
       "      <td>0</td>\n",
       "      <td>0</td>\n",
       "      <td>0</td>\n",
       "      <td>0</td>\n",
       "      <td>0</td>\n",
       "      <td>1</td>\n",
       "      <td>0</td>\n",
       "      <td>0</td>\n",
       "    </tr>\n",
       "    <tr>\n",
       "      <th>1</th>\n",
       "      <td>1.0</td>\n",
       "      <td>1</td>\n",
       "      <td>5.0</td>\n",
       "      <td>10</td>\n",
       "      <td>0</td>\n",
       "      <td>10.0</td>\n",
       "      <td>0</td>\n",
       "      <td>1</td>\n",
       "      <td>0</td>\n",
       "      <td>0</td>\n",
       "      <td>...</td>\n",
       "      <td>0</td>\n",
       "      <td>0</td>\n",
       "      <td>0</td>\n",
       "      <td>0</td>\n",
       "      <td>0</td>\n",
       "      <td>0</td>\n",
       "      <td>0</td>\n",
       "      <td>1</td>\n",
       "      <td>0</td>\n",
       "      <td>0</td>\n",
       "    </tr>\n",
       "    <tr>\n",
       "      <th>2</th>\n",
       "      <td>1.0</td>\n",
       "      <td>1</td>\n",
       "      <td>46.0</td>\n",
       "      <td>1630</td>\n",
       "      <td>16</td>\n",
       "      <td>1103.0</td>\n",
       "      <td>0</td>\n",
       "      <td>0</td>\n",
       "      <td>0</td>\n",
       "      <td>0</td>\n",
       "      <td>...</td>\n",
       "      <td>0</td>\n",
       "      <td>0</td>\n",
       "      <td>0</td>\n",
       "      <td>0</td>\n",
       "      <td>0</td>\n",
       "      <td>0</td>\n",
       "      <td>0</td>\n",
       "      <td>1</td>\n",
       "      <td>0</td>\n",
       "      <td>0</td>\n",
       "    </tr>\n",
       "    <tr>\n",
       "      <th>3</th>\n",
       "      <td>1.0</td>\n",
       "      <td>1</td>\n",
       "      <td>67.0</td>\n",
       "      <td>4649</td>\n",
       "      <td>184</td>\n",
       "      <td>3100.0</td>\n",
       "      <td>0</td>\n",
       "      <td>1</td>\n",
       "      <td>0</td>\n",
       "      <td>0</td>\n",
       "      <td>...</td>\n",
       "      <td>0</td>\n",
       "      <td>0</td>\n",
       "      <td>0</td>\n",
       "      <td>0</td>\n",
       "      <td>0</td>\n",
       "      <td>1</td>\n",
       "      <td>0</td>\n",
       "      <td>0</td>\n",
       "      <td>0</td>\n",
       "      <td>0</td>\n",
       "    </tr>\n",
       "    <tr>\n",
       "      <th>4</th>\n",
       "      <td>1.0</td>\n",
       "      <td>1</td>\n",
       "      <td>4.0</td>\n",
       "      <td>346</td>\n",
       "      <td>8</td>\n",
       "      <td>234.0</td>\n",
       "      <td>0</td>\n",
       "      <td>0</td>\n",
       "      <td>0</td>\n",
       "      <td>0</td>\n",
       "      <td>...</td>\n",
       "      <td>0</td>\n",
       "      <td>0</td>\n",
       "      <td>0</td>\n",
       "      <td>0</td>\n",
       "      <td>0</td>\n",
       "      <td>0</td>\n",
       "      <td>0</td>\n",
       "      <td>1</td>\n",
       "      <td>0</td>\n",
       "      <td>0</td>\n",
       "    </tr>\n",
       "  </tbody>\n",
       "</table>\n",
       "<p>5 rows × 34 columns</p>\n",
       "</div>"
      ],
      "text/plain": [
       "   const  eps  duration  watched  watching   votes  years_running  \\\n",
       "0    1.0    1      67.0     4649        86  3100.0              0   \n",
       "1    1.0    1       5.0       10         0    10.0              0   \n",
       "2    1.0    1      46.0     1630        16  1103.0              0   \n",
       "3    1.0    1      67.0     4649       184  3100.0              0   \n",
       "4    1.0    1       4.0      346         8   234.0              0   \n",
       "\n",
       "   mediaType_Movie  mediaType_Music Video  mediaType_OVA  ...  \\\n",
       "0                1                      0              0  ...   \n",
       "1                1                      0              0  ...   \n",
       "2                0                      0              0  ...   \n",
       "3                1                      0              0  ...   \n",
       "4                0                      0              0  ...   \n",
       "\n",
       "   studio_primary_Toei Animation  studios_colab_Yes  genre_Adventure  \\\n",
       "0                              1                  0                0   \n",
       "1                              0                  0                0   \n",
       "2                              0                  0                0   \n",
       "3                              0                  0                0   \n",
       "4                              0                  0                0   \n",
       "\n",
       "   genre_Based on a Manga  genre_Comedy  genre_Drama  genre_Fantasy  \\\n",
       "0                       0             0            0              0   \n",
       "1                       0             0            0              0   \n",
       "2                       0             0            0              0   \n",
       "3                       0             0            1              0   \n",
       "4                       0             0            0              0   \n",
       "\n",
       "   genre_Other  genre_Romance  genre_Sci Fi  \n",
       "0            1              0             0  \n",
       "1            1              0             0  \n",
       "2            1              0             0  \n",
       "3            0              0             0  \n",
       "4            1              0             0  \n",
       "\n",
       "[5 rows x 34 columns]"
      ]
     },
     "execution_count": 48,
     "metadata": {},
     "output_type": "execute_result"
    }
   ],
   "source": [
    "# creating dummy variables\n",
    "X = pd.get_dummies(\n",
    "    X,\n",
    "    columns=X.select_dtypes(include=[\"object\", \"category\"]).columns.tolist(),\n",
    "    drop_first=True,\n",
    ")\n",
    "X.head()"
   ]
  },
  {
   "cell_type": "code",
   "execution_count": 49,
   "metadata": {
    "id": "CBXfTtAPGoaF",
    "outputId": "90eeaa9e-0a43-436a-c204-57de6581f954"
   },
   "outputs": [],
   "source": [
    "# splitting the data in 70:30 ratio for train to test data\n",
    "\n",
    "x_train, x_test, y_train, y_test = train_test_split(X, y, test_size=0.3, random_state=1)"
   ]
  },
  {
   "cell_type": "code",
   "execution_count": 50,
   "metadata": {
    "colab": {
     "base_uri": "https://localhost:8080/"
    },
    "id": "Drw9GAU5-qUN",
    "outputId": "a9c635ef-89fd-4a7c-da12-401e8b55ed68"
   },
   "outputs": [
    {
     "name": "stdout",
     "output_type": "stream",
     "text": [
      "Number of rows in train data = 4566\n",
      "Number of rows in test data = 1957\n"
     ]
    }
   ],
   "source": [
    "print(\"Number of rows in train data =\", x_train.shape[0])\n",
    "print(\"Number of rows in test data =\", x_test.shape[0])"
   ]
  },
  {
   "cell_type": "markdown",
   "metadata": {
    "id": "G9_JGYY_-qUN"
   },
   "source": [
    "## Model Building - Linear Regression"
   ]
  },
  {
   "cell_type": "code",
   "execution_count": 51,
   "metadata": {
    "colab": {
     "base_uri": "https://localhost:8080/"
    },
    "id": "AQ_s8bVsH3hu",
    "outputId": "cd373d29-3d0f-4b21-e996-7916efd73981",
    "scrolled": false
   },
   "outputs": [
    {
     "name": "stdout",
     "output_type": "stream",
     "text": [
      "                            OLS Regression Results                            \n",
      "==============================================================================\n",
      "Dep. Variable:                 rating   R-squared:                       0.722\n",
      "Model:                            OLS   Adj. R-squared:                  0.720\n",
      "Method:                 Least Squares   F-statistic:                     357.4\n",
      "Date:                Fri, 21 Apr 2023   Prob (F-statistic):               0.00\n",
      "Time:                        12:49:20   Log-Likelihood:                -2307.9\n",
      "No. Observations:                4566   AIC:                             4684.\n",
      "Df Residuals:                    4532   BIC:                             4902.\n",
      "Df Model:                          33                                         \n",
      "Covariance Type:            nonrobust                                         \n",
      "====================================================================================================\n",
      "                                       coef    std err          t      P>|t|      [0.025      0.975]\n",
      "----------------------------------------------------------------------------------------------------\n",
      "const                                2.7707      0.074     37.657      0.000       2.626       2.915\n",
      "eps                                  0.0193      0.001     17.871      0.000       0.017       0.021\n",
      "duration                             0.0123      0.000     25.656      0.000       0.011       0.013\n",
      "watched                              0.0004   2.82e-05     14.213      0.000       0.000       0.000\n",
      "watching                             0.0037      0.000     21.258      0.000       0.003       0.004\n",
      "votes                               -0.0003   4.52e-05     -7.460      0.000      -0.000      -0.000\n",
      "years_running                       -0.0767      0.008     -9.039      0.000      -0.093      -0.060\n",
      "mediaType_Movie                     -0.2975      0.032     -9.168      0.000      -0.361      -0.234\n",
      "mediaType_Music Video               -0.2911      0.030     -9.717      0.000      -0.350      -0.232\n",
      "mediaType_OVA                       -0.3017      0.030    -10.094      0.000      -0.360      -0.243\n",
      "mediaType_Other                     -0.2731      0.035     -7.885      0.000      -0.341      -0.205\n",
      "mediaType_TV                        -0.5301      0.034    -15.800      0.000      -0.596      -0.464\n",
      "mediaType_TV Special                -0.1854      0.039     -4.757      0.000      -0.262      -0.109\n",
      "mediaType_Web                       -0.4087      0.031    -13.263      0.000      -0.469      -0.348\n",
      "contentWarn_Yes                     -0.1776      0.020     -8.735      0.000      -0.218      -0.138\n",
      "studio_primary_J.C. Staff           -0.1578      0.055     -2.850      0.004      -0.266      -0.049\n",
      "studio_primary_MADHOUSE             -0.2071      0.057     -3.635      0.000      -0.319      -0.095\n",
      "studio_primary_OLM                  -0.3696      0.064     -5.785      0.000      -0.495      -0.244\n",
      "studio_primary_Others               -0.2482      0.044     -5.603      0.000      -0.335      -0.161\n",
      "studio_primary_Production I.G        0.0828      0.058      1.430      0.153      -0.031       0.196\n",
      "studio_primary_Studio Deen          -0.1264      0.061     -2.083      0.037      -0.245      -0.007\n",
      "studio_primary_Studio Pierrot       -0.2311      0.062     -3.747      0.000      -0.352      -0.110\n",
      "studio_primary_Sunrise              -0.0689      0.054     -1.282      0.200      -0.174       0.036\n",
      "studio_primary_TMS Entertainment     0.0361      0.057      0.639      0.523      -0.075       0.147\n",
      "studio_primary_Toei Animation       -0.1817      0.051     -3.580      0.000      -0.281      -0.082\n",
      "studios_colab_Yes                    0.0021      0.028      0.072      0.942      -0.054       0.058\n",
      "genre_Adventure                     -0.1219      0.062     -1.964      0.050      -0.244      -0.000\n",
      "genre_Based on a Manga              -0.0056      0.086     -0.065      0.948      -0.175       0.164\n",
      "genre_Comedy                        -0.2693      0.075     -3.602      0.000      -0.416      -0.123\n",
      "genre_Drama                          0.2504      0.067      3.740      0.000       0.119       0.382\n",
      "genre_Fantasy                        0.0621      0.075      0.823      0.411      -0.086       0.210\n",
      "genre_Other                         -0.0436      0.055     -0.791      0.429      -0.152       0.064\n",
      "genre_Romance                        0.0026      0.065      0.040      0.968      -0.125       0.130\n",
      "genre_Sci Fi                        -0.0596      0.068     -0.874      0.382      -0.193       0.074\n",
      "==============================================================================\n",
      "Omnibus:                      147.177   Durbin-Watson:                   1.944\n",
      "Prob(Omnibus):                  0.000   Jarque-Bera (JB):               70.085\n",
      "Skew:                           0.052   Prob(JB):                     6.04e-16\n",
      "Kurtosis:                       2.402   Cond. No.                     7.64e+04\n",
      "==============================================================================\n",
      "\n",
      "Notes:\n",
      "[1] Standard Errors assume that the covariance matrix of the errors is correctly specified.\n",
      "[2] The condition number is large, 7.64e+04. This might indicate that there are\n",
      "strong multicollinearity or other numerical problems.\n"
     ]
    }
   ],
   "source": [
    "olsmodel = sm.OLS(y_train, x_train).fit()\n",
    "print(olsmodel.summary())"
   ]
  },
  {
   "cell_type": "markdown",
   "metadata": {
    "id": "vSK7ThIK1Le2"
   },
   "source": [
    "### Interpreting the Regression Results:"
   ]
  },
  {
   "cell_type": "markdown",
   "metadata": {
    "id": "lUO-aovo1L6i"
   },
   "source": [
    "1. **Adjusted. R-squared**: It reflects the fit of the model.\n",
    "    - Adjusted R-squared values generally range from 0 to 1, where a higher value generally indicates a better fit, assuming certain conditions are met.\n",
    "    - In our case, the value for adj. R-squared is **0.722**, which is good.\n",
    "\n",
    "\n",
    "2. ***const* coefficient**: It is the Y-intercept.\n",
    "    - It means that if all the predictor variable coefficients are zero, then the expected output (i.e., Y) would be equal to the *const* coefficient.\n",
    "    - In our case, the value for `const` coefficient is **2.7707**\n",
    "\n",
    "\n",
    "3. **Coefficient of a predictor variable**: It represents the change in the output Y due to a change in the predictor variable (everything else held constant).\n",
    "    - In our case, the coefficient of `duration` is **0.0123**."
   ]
  },
  {
   "cell_type": "markdown",
   "metadata": {
    "id": "GhWcTffM-qUN"
   },
   "source": [
    "### Model Performance Check"
   ]
  },
  {
   "cell_type": "markdown",
   "metadata": {
    "id": "6a7pUm3x-qUN"
   },
   "source": [
    "Let's check the performance of the model using different metrics.\n",
    "\n",
    "* We will be using metric functions defined in sklearn for RMSE, MAE, and $R^2$.\n",
    "* We will define a function to calculate MAPE and adjusted $R^2$.\n",
    "    - The mean absolute percentage error (MAPE) measures the accuracy of predictions as a percentage, and can be calculated as the average absolute percent error for each predicted value minus actual values divided by actual values. It works best if there are no extreme values in the data and none of the actual values are 0.\n",
    "    \n",
    "* We will create a function which will print out all the above metrics in one go."
   ]
  },
  {
   "cell_type": "code",
   "execution_count": 52,
   "metadata": {
    "id": "deaapIIvlJIL",
    "outputId": "1b53dc05-c0d1-43d3-bc92-66f519957056"
   },
   "outputs": [],
   "source": [
    "# function to compute adjusted R-squared\n",
    "def adj_r2_score(predictors, targets, predictions):\n",
    "    r2 = r2_score(targets, predictions)\n",
    "    n = predictors.shape[0]\n",
    "    k = predictors.shape[1]\n",
    "    return 1 - ((1 - r2) * (n - 1) / (n - k - 1))\n",
    "\n",
    "\n",
    "# function to compute MAPE\n",
    "def mape_score(targets, predictions):\n",
    "    return np.mean(np.abs(targets - predictions) / targets) * 100\n",
    "\n",
    "\n",
    "# function to compute different metrics to check performance of a regression model\n",
    "def model_performance_regression(model, predictors, target):\n",
    "    \"\"\"\n",
    "    Function to compute different metrics to check regression model performance\n",
    "\n",
    "    model: regressor\n",
    "    predictors: independent variables\n",
    "    target: dependent variable\n",
    "    \"\"\"\n",
    "\n",
    "    # predicting using the independent variables\n",
    "    pred = model.predict(predictors)\n",
    "\n",
    "    r2 = r2_score(target, pred)  # to compute R-squared\n",
    "    adjr2 = adj_r2_score(predictors, target, pred)  # to compute adjusted R-squared\n",
    "    rmse = np.sqrt(mean_squared_error(target, pred))  # to compute RMSE\n",
    "    mae = mean_absolute_error(target, pred)  # to compute MAE\n",
    "    mape = mape_score(target, pred)  # to compute MAPE\n",
    "\n",
    "    # creating a dataframe of metrics\n",
    "    df_perf = pd.DataFrame(\n",
    "        {\n",
    "            \"RMSE\": rmse,\n",
    "            \"MAE\": mae,\n",
    "            \"R-squared\": r2,\n",
    "            \"Adj. R-squared\": adjr2,\n",
    "            \"MAPE\": mape,\n",
    "        },\n",
    "        index=[0],\n",
    "    )\n",
    "\n",
    "    return df_perf"
   ]
  },
  {
   "cell_type": "code",
   "execution_count": 53,
   "metadata": {
    "colab": {
     "base_uri": "https://localhost:8080/",
     "height": 117
    },
    "id": "vVBBaPtf-BZd",
    "outputId": "704a9453-c3da-4df2-c313-9640f2ff1b22"
   },
   "outputs": [
    {
     "name": "stdout",
     "output_type": "stream",
     "text": [
      "Training Performance\n",
      "\n"
     ]
    },
    {
     "data": {
      "text/html": [
       "<div>\n",
       "<style scoped>\n",
       "    .dataframe tbody tr th:only-of-type {\n",
       "        vertical-align: middle;\n",
       "    }\n",
       "\n",
       "    .dataframe tbody tr th {\n",
       "        vertical-align: top;\n",
       "    }\n",
       "\n",
       "    .dataframe thead th {\n",
       "        text-align: right;\n",
       "    }\n",
       "</style>\n",
       "<table border=\"1\" class=\"dataframe\">\n",
       "  <thead>\n",
       "    <tr style=\"text-align: right;\">\n",
       "      <th></th>\n",
       "      <th>RMSE</th>\n",
       "      <th>MAE</th>\n",
       "      <th>R-squared</th>\n",
       "      <th>Adj. R-squared</th>\n",
       "      <th>MAPE</th>\n",
       "    </tr>\n",
       "  </thead>\n",
       "  <tbody>\n",
       "    <tr>\n",
       "      <th>0</th>\n",
       "      <td>0.40112</td>\n",
       "      <td>0.330417</td>\n",
       "      <td>0.722387</td>\n",
       "      <td>0.720304</td>\n",
       "      <td>12.444742</td>\n",
       "    </tr>\n",
       "  </tbody>\n",
       "</table>\n",
       "</div>"
      ],
      "text/plain": [
       "      RMSE       MAE  R-squared  Adj. R-squared       MAPE\n",
       "0  0.40112  0.330417   0.722387        0.720304  12.444742"
      ]
     },
     "execution_count": 53,
     "metadata": {},
     "output_type": "execute_result"
    }
   ],
   "source": [
    "# checking model performance on train set (seen 70% data)\n",
    "print(\"Training Performance\\n\")\n",
    "olsmodel_train_perf = model_performance_regression(olsmodel, x_train, y_train)\n",
    "olsmodel_train_perf"
   ]
  },
  {
   "cell_type": "code",
   "execution_count": 54,
   "metadata": {
    "colab": {
     "base_uri": "https://localhost:8080/",
     "height": 117
    },
    "id": "Sv51vNBhlJIL",
    "outputId": "20133184-0bcc-443c-f00c-21d51c7d1360"
   },
   "outputs": [
    {
     "name": "stdout",
     "output_type": "stream",
     "text": [
      "Test Performance\n",
      "\n"
     ]
    },
    {
     "data": {
      "text/html": [
       "<div>\n",
       "<style scoped>\n",
       "    .dataframe tbody tr th:only-of-type {\n",
       "        vertical-align: middle;\n",
       "    }\n",
       "\n",
       "    .dataframe tbody tr th {\n",
       "        vertical-align: top;\n",
       "    }\n",
       "\n",
       "    .dataframe thead th {\n",
       "        text-align: right;\n",
       "    }\n",
       "</style>\n",
       "<table border=\"1\" class=\"dataframe\">\n",
       "  <thead>\n",
       "    <tr style=\"text-align: right;\">\n",
       "      <th></th>\n",
       "      <th>RMSE</th>\n",
       "      <th>MAE</th>\n",
       "      <th>R-squared</th>\n",
       "      <th>Adj. R-squared</th>\n",
       "      <th>MAPE</th>\n",
       "    </tr>\n",
       "  </thead>\n",
       "  <tbody>\n",
       "    <tr>\n",
       "      <th>0</th>\n",
       "      <td>0.413096</td>\n",
       "      <td>0.340426</td>\n",
       "      <td>0.703053</td>\n",
       "      <td>0.6978</td>\n",
       "      <td>12.56679</td>\n",
       "    </tr>\n",
       "  </tbody>\n",
       "</table>\n",
       "</div>"
      ],
      "text/plain": [
       "       RMSE       MAE  R-squared  Adj. R-squared      MAPE\n",
       "0  0.413096  0.340426   0.703053          0.6978  12.56679"
      ]
     },
     "execution_count": 54,
     "metadata": {},
     "output_type": "execute_result"
    }
   ],
   "source": [
    "# checking model performance on test set (seen 30% data)\n",
    "print(\"Test Performance\\n\")\n",
    "olsmodel_test_perf = model_performance_regression(olsmodel, x_test, y_test)\n",
    "olsmodel_test_perf"
   ]
  },
  {
   "cell_type": "code",
   "execution_count": null,
   "metadata": {},
   "outputs": [],
   "source": []
  }
 ],
 "metadata": {
  "colab": {
   "collapsed_sections": [
    "rj3ZBcwc-qTr",
    "v_-uuGqH-qTt",
    "xxhpZv9y-qTw",
    "aodMV5D3-qTy",
    "qlzqMR1K-qTz",
    "KQi5ygTC-qT1",
    "5TcqcxbK-qT3",
    "nUCorhch-qT4",
    "xNr4bWoM-qT5",
    "Ch_TjRfF-qT5",
    "VjmJBEKSQjcH",
    "ftd1CbHOB6PZ",
    "kQ5wsxwA-qUG",
    "wYF-RsrNqH0E",
    "iqLh_w63-qUJ",
    "TeuhzPWVbtGq",
    "1THqC335b4Yi",
    "G9_JGYY_-qUN",
    "vSK7ThIK1Le2",
    "GhWcTffM-qUN",
    "3IjD65V42Qtb",
    "D2eFxAmjC-PS",
    "L7Drz5w_9WKV",
    "3jS63iRW9WKs",
    "u2MNEP5oC-Pf"
   ],
   "name": "SLF_MLS1_AnimeRatings.ipynb",
   "provenance": []
  },
  "kernelspec": {
   "display_name": "Python 3 (ipykernel)",
   "language": "python",
   "name": "python3"
  },
  "language_info": {
   "codemirror_mode": {
    "name": "ipython",
    "version": 3
   },
   "file_extension": ".py",
   "mimetype": "text/x-python",
   "name": "python",
   "nbconvert_exporter": "python",
   "pygments_lexer": "ipython3",
   "version": "3.9.7"
  }
 },
 "nbformat": 4,
 "nbformat_minor": 1
}
